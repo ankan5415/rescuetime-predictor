{
 "cells": [
  {
   "cell_type": "code",
   "execution_count": null,
   "metadata": {},
   "outputs": [],
   "source": [
    "!pip3.9 install requests pandas scikit-learn matplotlib python-dotenv"
   ]
  },
  {
   "cell_type": "code",
   "execution_count": 17,
   "metadata": {},
   "outputs": [
    {
     "data": {
      "text/plain": [
       "True"
      ]
     },
     "execution_count": 17,
     "metadata": {},
     "output_type": "execute_result"
    }
   ],
   "source": [
    "import requests\n",
    "from datetime import timedelta, date\n",
    "import pandas as pd\n",
    "from io import StringIO\n",
    "from dotenv import load_dotenv\n",
    "import os\n",
    "\n",
    "load_dotenv()  "
   ]
  },
  {
   "attachments": {},
   "cell_type": "markdown",
   "metadata": {},
   "source": [
    "# Data Collection"
   ]
  },
  {
   "cell_type": "code",
   "execution_count": 18,
   "metadata": {},
   "outputs": [],
   "source": [
    "year_data = pd.DataFrame()\n",
    "year = 2021\n",
    "\n",
    "URL=\"https://www.rescuetime.com/anapi/data\"\n",
    "params = {\n",
    "\"key\": os.getenv(\"RESCUETIME_KEY\"),\n",
    "\"perspective\": \"interval\",\n",
    "\"interval\": \"hour\",\n",
    "\"format\": \"csv\",\n",
    "}\n",
    "\n",
    "def daterange(start_date, end_date):\n",
    "    for n in range(int((end_date - start_date).days) + 1):\n",
    "        yield start_date + timedelta(n)\n",
    "\n",
    "\n",
    "def generate_data(year): \n",
    "    year_data =  pd.DataFrame()\n",
    "\n",
    "    start_date = date(year, 1, 1)\n",
    "    end_date = date(year, 12, 31)\n",
    "    \n",
    "    for single_date in daterange(start_date, end_date):\n",
    "\n",
    "        params[\"restrict_begin\"] = single_date.strftime(\"%Y-%m-%d\")\n",
    "        params[\"restrict_end\"] = single_date.strftime(\"%Y-%m-%d\")\n",
    "        \n",
    "        response = requests.get(URL, params=params)\n",
    "        \n",
    "        if response.status_code == 200:\n",
    "            # Create a StringIO object from the response text and read it into a DataFrame\n",
    "            data = pd.read_csv(StringIO(response.text))\n",
    "            # Append the data to the main DataFrame\n",
    "            year_data = pd.concat([year_data,data], ignore_index=True)\n",
    "            print(f\"Added {single_date.strftime('%Y-%m-%d')}\")\n",
    "        else:\n",
    "            print(f\"Request for {single_date.strftime('%Y-%m-%d')} failed with status code {response.status_code}\")\n",
    "    \n",
    "    return year_data\n",
    "\n"
   ]
  },
  {
   "cell_type": "code",
   "execution_count": null,
   "metadata": {},
   "outputs": [],
   "source": [
    "years = [2020,2021,2022]\n",
    "for year in years:\n",
    "    year_data = generate_data(year)\n",
    "    year_data.to_csv(f'{year}.csv', index=False)"
   ]
  },
  {
   "cell_type": "code",
   "execution_count": null,
   "metadata": {},
   "outputs": [],
   "source": [
    "year_data.to_csv(f'{year}.csv', index=False)"
   ]
  }
 ],
 "metadata": {
  "kernelspec": {
   "display_name": "Python 3",
   "language": "python",
   "name": "python3"
  },
  "language_info": {
   "codemirror_mode": {
    "name": "ipython",
    "version": 3
   },
   "file_extension": ".py",
   "mimetype": "text/x-python",
   "name": "python",
   "nbconvert_exporter": "python",
   "pygments_lexer": "ipython3",
   "version": "3.9.16"
  },
  "orig_nbformat": 4
 },
 "nbformat": 4,
 "nbformat_minor": 2
}
